{
 "cells": [
  {
   "cell_type": "markdown",
   "metadata": {},
   "source": [
    "# Manifesto"
   ]
  },
  {
   "cell_type": "markdown",
   "metadata": {},
   "source": [
    "* Identificador: TPC3\n",
    "* Título: Buble Sort\n",
    "* Data início:2021-10-23\n",
    "* Data fim:2021-10-24\n",
    "* Supervisor: José Carlos Ramalho, https://www.di.uminho.pt/~jcr/thesup-v2.php\n",
    "* Autor: Miguel Borges de Araújo Carvalho do Vale, A95524\n",
    "* Resumo: Este trabalho foi realizado a partir da linguagem de programação python. A função do trabalho é testar a capacidade do aluno na criação de um programa, que tenha implementado um menu interativo, tendo este que incluir um conjunto de funções, que concretizem os objetivos do trabalho, sendo estes, a criação de uma lista de forma automática ou manual, do ponto de vista do utilizador, e a organização desta de forma crescente a partir do algoritmo de trocas diretas ou a procura do maior valor nessa lista. <br>Para puder criar números aleatórios numa lista foi importada a função randint e para a criação do menu foi criado um print que apresente as possíveis escolhas do utilizador e após isto um conjunto de declarações if, para que a escolha do utilizador seja concretizada pelo código correto. Sendo que existem quatro possibilidades de escolha, foram criadas quatro funções para cada uma das escolhas possíveis. <br>Para as funções de escolha aleatória foi utilizada a função randint dentro dos limites 0 e 100, numa lista cujo tamanho depende do utilizador, tal como em todas as outras funções, nas funções manuais foi pedida a escolha dos valores que o utilizador quiser adicionar à lista. <br>Nas funções de trocas diretas foram utilizados dois ciclos for, um que passe pela lista uma vez, organizando dois valores de cada vez e outra que faz com que o ciclo anterior se repita um certo número de vezes, sendo este número igual à quantidade de valores dentro da lista, tendo assim a certeza que todos os valores podem-se organizar de forma crescente. Finalmente nas funções de máximo, foi atribuida uma variável ao primeiro valor da lista, juntamente com condições if e um ciclo for é possível determinar o maior valor dessa lista.<br>Nas declarações if está a ser chamada a função correta, de acordo com a escolha do utilizador e posteriormente criada uma mensagem final com os resultados pedidos.<br>A função está toda incluída num ciclo while que terminará a continuação do código se o utilizador decidir terminar com o programa."
   ]
  },
  {
   "cell_type": "code",
   "execution_count": null,
   "metadata": {},
   "outputs": [],
   "source": []
  },
  {
   "cell_type": "code",
   "execution_count": null,
   "metadata": {},
   "outputs": [],
   "source": []
  }
 ],
 "metadata": {
  "kernelspec": {
   "display_name": "Python 3",
   "language": "python",
   "name": "python3"
  },
  "language_info": {
   "codemirror_mode": {
    "name": "ipython",
    "version": 3
   },
   "file_extension": ".py",
   "mimetype": "text/x-python",
   "name": "python",
   "nbconvert_exporter": "python",
   "pygments_lexer": "ipython3",
   "version": "3.8.3"
  }
 },
 "nbformat": 4,
 "nbformat_minor": 4
}
